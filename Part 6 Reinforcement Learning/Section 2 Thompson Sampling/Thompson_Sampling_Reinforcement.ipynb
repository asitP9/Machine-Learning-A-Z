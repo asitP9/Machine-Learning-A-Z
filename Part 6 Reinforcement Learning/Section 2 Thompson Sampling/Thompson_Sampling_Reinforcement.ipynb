{
 "cells": [
  {
   "cell_type": "markdown",
   "metadata": {},
   "source": [
    "## Data Pre Processing\n"
   ]
  },
  {
   "cell_type": "code",
   "execution_count": 36,
   "metadata": {},
   "outputs": [],
   "source": [
    "import numpy as np\n",
    "import matplotlib.pyplot as plt\n",
    "import pandas as pd\n",
    "import random\n",
    "\n",
    "pd.set_option('display.max_rows', None)\n",
    "\n",
    "dataset=pd.read_csv('Ads_CTR_Optimisation.csv')"
   ]
  },
  {
   "cell_type": "markdown",
   "metadata": {},
   "source": [
    "### Implementing Thompson Sampling"
   ]
  },
  {
   "cell_type": "code",
   "execution_count": 37,
   "metadata": {},
   "outputs": [],
   "source": [
    "d=10\n",
    "N=10000\n",
    "no_of_rewards_1=[0]*d\n",
    "no_of_rewards_0=[0]*d\n",
    "ad_selected=[]\n",
    "total_reward=0"
   ]
  },
  {
   "cell_type": "code",
   "execution_count": 38,
   "metadata": {},
   "outputs": [],
   "source": [
    "for i in range(0, N):\n",
    "    max_random=0\n",
    "    ad=0\n",
    "    for j in range(0, d):\n",
    "        random_beta=random.betavariate(no_of_rewards_1[j]+1, no_of_rewards_0[j]+1)\n",
    "        if random_beta>max_random:\n",
    "            max_random=random_beta\n",
    "            ad=j\n",
    "\n",
    "    ad_selected.append(ad)\n",
    "    reward=dataset.values[i][ad]\n",
    "    if reward==1:\n",
    "        no_of_rewards_1[ad]+=1\n",
    "    else:\n",
    "        no_of_rewards_0[ad]+=1\n",
    "            \n",
    "    total_reward+=reward"
   ]
  },
  {
   "cell_type": "code",
   "execution_count": 39,
   "metadata": {},
   "outputs": [
    {
     "data": {
      "text/plain": [
       "2600"
      ]
     },
     "execution_count": 39,
     "metadata": {},
     "output_type": "execute_result"
    }
   ],
   "source": [
    "total_reward"
   ]
  },
  {
   "cell_type": "markdown",
   "metadata": {},
   "source": [
    "### Visualizing the results- Histogram"
   ]
  },
  {
   "cell_type": "code",
   "execution_count": 9,
   "metadata": {},
   "outputs": [
    {
     "data": {
      "image/png": "[encoded data removed]",
      "text/plain": [
       "<Figure size 432x288 with 1 Axes>"
      ]
     },
     "metadata": {
      "needs_background": "light"
     },
     "output_type": "display_data"
    }
   ],
   "source": [
    "plt.hist(ad_selected)\n",
    "plt.title(\"Histogram of Ad Selected\")\n",
    "plt.xlabel(\"Ads\")\n",
    "plt.ylabel(\"No of times each ad was selected\")\n",
    "plt.show()"
   ]
  },
  {
   "cell_type": "code",
   "execution_count": null,
   "metadata": {},
   "outputs": [],
   "source": []
  }
 ],
 "metadata": {
  "kernelspec": {
   "display_name": "Python 3",
   "language": "python",
   "name": "python3"
  },
  "language_info": {
   "codemirror_mode": {
    "name": "ipython",
    "version": 3
   },
   "file_extension": ".py",
   "mimetype": "text/x-python",
   "name": "python",
   "nbconvert_exporter": "python",
   "pygments_lexer": "ipython3",
   "version": "3.7.9"
  }
 },
 "nbformat": 4,
 "nbformat_minor": 4
}
